{
 "cells": [
  {
   "cell_type": "markdown",
   "id": "6effdfa5-fab7-40e6-bcde-bfaf144d9f7b",
   "metadata": {},
   "source": [
    "# For Loop\n",
    "Generate a table of a number"
   ]
  },
  {
   "cell_type": "code",
   "execution_count": 2,
   "id": "08e57200-cdfa-41fd-853c-4b4c68dfe700",
   "metadata": {},
   "outputs": [
    {
     "name": "stdin",
     "output_type": "stream",
     "text": [
      "Enter a number to generate its multiplication table:  6\n"
     ]
    },
    {
     "name": "stdout",
     "output_type": "stream",
     "text": [
      "The multiplication table of:  6\n",
      "6 * 1 = 6\n",
      "6 * 2 = 12\n",
      "6 * 3 = 18\n",
      "6 * 4 = 24\n",
      "6 * 5 = 30\n",
      "6 * 6 = 36\n",
      "6 * 7 = 42\n",
      "6 * 8 = 48\n",
      "6 * 9 = 54\n",
      "6 * 10 = 60\n"
     ]
    }
   ],
   "source": [
    "num = int(input(\"Enter a number to generate its multiplication table: \"))\n",
    "print(\"The multiplication table of: \", num)\n",
    "for i in range(1,11):                   #generate a table to range 10\n",
    "    print(f\"{num} * {i} = {num*i}\")     # 5*1=5 shows the similar result using this logic"
   ]
  },
  {
   "cell_type": "markdown",
   "id": "bf6730f5-8b72-418e-bace-9c36d30b223b",
   "metadata": {},
   "source": [
    "# count the total bill of purchase items"
   ]
  },
  {
   "cell_type": "code",
   "execution_count": 4,
   "id": "8b315ed8-c320-4e1c-868c-cf95b0e42e04",
   "metadata": {},
   "outputs": [
    {
     "name": "stdin",
     "output_type": "stream",
     "text": [
      "Enter number of items that you want to purchase:  2\n",
      "Enter the price of the items:  100\n",
      "Enter the price of the items:  50\n"
     ]
    },
    {
     "name": "stdout",
     "output_type": "stream",
     "text": [
      "Subtotal 135.0\n"
     ]
    }
   ],
   "source": [
    "num_items = int(input(\"Enter number of items that you want to purchase: \"))\n",
    "total_price = 0\n",
    "\n",
    "for i in range(num_items):              \n",
    "    price = float(input(\"Enter the price of the items: \"))\n",
    "    total_price = total_price + price    #count total price by adding amount of items\n",
    "    i = i+1\n",
    "if total_price >=100:\n",
    "    discount = 0.1*total_price         #10% discount\n",
    "elif total_price <100:\n",
    "    discount = 0.05 * total_price     #5% discount\n",
    "else:\n",
    "    discount = 0\n",
    "total_bill = total_price - discount\n",
    "print(\"Subtotal\", total_bill)"
   ]
  },
  {
   "cell_type": "markdown",
   "id": "49c0cfab-2cf4-4b76-b07e-dd82aadf18a9",
   "metadata": {},
   "source": [
    "# User Defined Function"
   ]
  },
  {
   "cell_type": "code",
   "execution_count": 5,
   "id": "70438f01-9629-4043-b765-9b637b881d17",
   "metadata": {},
   "outputs": [
    {
     "name": "stdout",
     "output_type": "stream",
     "text": [
      "Hello Riya!\n"
     ]
    }
   ],
   "source": [
    "def my_function():\n",
    "    print(\"Hello Riya!\")\n",
    "my_function()"
   ]
  },
  {
   "cell_type": "markdown",
   "id": "59e30338-5a46-43e9-a960-ca32698a141f",
   "metadata": {},
   "source": [
    "# Count Electricity bill"
   ]
  },
  {
   "cell_type": "code",
   "execution_count": null,
   "id": "1b63f56a-d79d-4664-9a8a-d548faf83045",
   "metadata": {},
   "outputs": [],
   "source": [
    "def details_bill():\n",
    "    print(\"The last date of the bill payment is on next week Sunday\")\n",
    "    print(\"After deadline, you need to pay is 1000 as a fine.\")\n",
    "    print(\"Pay your bill soon.\")"
   ]
  },
  {
   "cell_type": "code",
   "execution_count": null,
   "id": "f8c4f7f8-1353-4483-89a6-8751773d5d22",
   "metadata": {},
   "outputs": [],
   "source": [
    "    for i in range(3):\n",
    "    a = input(\"Enter your name\")\n",
    "    b = int(input(\"Enter the unit of electricity you have consumed.\"))\n",
    "    bill = b *10\n",
    "    print(\"total amount of bill you need to pay is \", bill)\n",
    "    details_bill()"
   ]
  },
  {
   "cell_type": "markdown",
   "id": "20667d0b-f61f-4474-a1ba-84def71f77d4",
   "metadata": {},
   "source": [
    "# Calculate exam scores"
   ]
  },
  {
   "cell_type": "code",
   "execution_count": null,
   "id": "edc923b1-269e-456a-95b2-ca2b8053ec11",
   "metadata": {},
   "outputs": [],
   "source": [
    "def exam_scores():\n",
    "    print(\"The numbers of students who passed the exams.\")"
   ]
  },
  {
   "cell_type": "code",
   "execution_count": null,
   "id": "8f2b6184-42fa-4296-9eb9-e9799d003bbe",
   "metadata": {},
   "outputs": [],
   "source": [
    "exam_scores()"
   ]
  },
  {
   "cell_type": "code",
   "execution_count": null,
   "id": "49770ff8-2ed0-464f-924c-804e114625a5",
   "metadata": {},
   "outputs": [],
   "source": [
    "def calculate_exam_statistics(exam_scores):\n",
    "  num_students = len(exam_scores)\n",
    "  average_score = sum(exam_scores)/num_students\n",
    "  highest_score = max(exam_scores)\n",
    "  lowest_score = min(exam_scores)\n",
    "\n",
    "  num_passed = 0\n",
    "  for score in exam_scores:\n",
    "    if score>=80:\n",
    "      num_passed = num_passed + 1\n",
    "  num_failed = num_students - num_passed\n",
    "  score_percentage = num_passed/num_students * 100\n",
    "  return average_score, highest_score, lowest_score, num_passed, num_failed, score_percentage\n",
    "\n",
    "exam_scores = [85,92,78,90,88,95,82,79,87,91]\n",
    "average_score, highest_score, lowest_score, num_passed, num_failed, score_percentage = calculate_exam_statistics(exam_scores)\n",
    "print(\"The average score is: \", average_score)\n",
    "print(\"The highest score is: \", highest_score)\n",
    "print(\"The lowest score is: \", lowest_score)\n",
    "print(\"The number of students passed: \", num_passed)\n",
    "print(\"The number of students failed: \", num_failed)\n",
    "print(\"The percentage of passed students: \", score_percentage)"
   ]
  },
  {
   "cell_type": "code",
   "execution_count": null,
   "id": "2824d9f9-5f1b-473a-8c87-1b9e766b4503",
   "metadata": {},
   "outputs": [],
   "source": []
  },
  {
   "cell_type": "code",
   "execution_count": null,
   "id": "f8f13c49-c957-4687-955d-53854830461b",
   "metadata": {},
   "outputs": [],
   "source": []
  },
  {
   "cell_type": "code",
   "execution_count": null,
   "id": "43aeea49-466a-4539-a4e6-645bc60e9217",
   "metadata": {},
   "outputs": [],
   "source": []
  }
 ],
 "metadata": {
  "kernelspec": {
   "display_name": "Python [conda env:base] *",
   "language": "python",
   "name": "conda-base-py"
  },
  "language_info": {
   "codemirror_mode": {
    "name": "ipython",
    "version": 3
   },
   "file_extension": ".py",
   "mimetype": "text/x-python",
   "name": "python",
   "nbconvert_exporter": "python",
   "pygments_lexer": "ipython3",
   "version": "3.12.7"
  }
 },
 "nbformat": 4,
 "nbformat_minor": 5
}
